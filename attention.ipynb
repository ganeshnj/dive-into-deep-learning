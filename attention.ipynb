{
 "cells": [
  {
   "cell_type": "code",
   "execution_count": 115,
   "metadata": {},
   "outputs": [],
   "source": [
    "import torch\n",
    "\n",
    "# encoder representations of four different words\n",
    "word_1 = torch.tensor([1.0, 0.0, 0.0])\n",
    "word_2 = torch.tensor([0.0, 1.0, 0.0])\n",
    "word_3 = torch.tensor([1.0, 1.0, 0.0])\n",
    "word_4 = torch.tensor([0.0, 0.0, 1.0])\n"
   ]
  },
  {
   "cell_type": "code",
   "execution_count": 116,
   "metadata": {},
   "outputs": [],
   "source": [
    "# weight matrix\n",
    "torch.manual_seed(42)\n",
    "W_Q = torch.rand(3, 3)\n",
    "W_K = torch.rand(3, 3)\n",
    "W_V = torch.rand(3, 3)"
   ]
  },
  {
   "cell_type": "code",
   "execution_count": 117,
   "metadata": {},
   "outputs": [],
   "source": [
    "# generating the queries, keys and values\n",
    "Q_1 = torch.matmul(W_Q, word_1)\n",
    "K_1 = torch.matmul(W_K, word_1)\n",
    "V_1 = torch.matmul(W_V, word_1)\n",
    "\n",
    "Q_2 = torch.matmul(W_Q, word_2)\n",
    "K_2 = torch.matmul(W_K, word_2)\n",
    "V_2 = torch.matmul(W_V, word_2)\n",
    "\n",
    "Q_3 = torch.matmul(W_Q, word_3)\n",
    "K_3 = torch.matmul(W_K, word_3)\n",
    "V_3 = torch.matmul(W_V, word_3)\n",
    "\n",
    "Q_4 = torch.matmul(W_Q, word_4)\n",
    "K_4 = torch.matmul(W_K, word_4)\n",
    "V_4 = torch.matmul(W_V, word_4)"
   ]
  },
  {
   "cell_type": "code",
   "execution_count": 118,
   "metadata": {},
   "outputs": [],
   "source": [
    "# scoring the first query vector against all key vectors\n",
    "scores_1 = torch.dot(Q_1, K_1)\n",
    "scores_2 = torch.dot(Q_1, K_2)\n",
    "scores_3 = torch.dot(Q_1, K_3)\n",
    "scores_4 = torch.dot(Q_1, K_4)\n",
    "scores = torch.stack([scores_1, scores_2, scores_3, scores_4])"
   ]
  },
  {
   "cell_type": "code",
   "execution_count": 119,
   "metadata": {},
   "outputs": [],
   "source": [
    "# computing the weights by a softmax operation\n",
    "weights = torch.nn.functional.softmax(scores / torch.sqrt(torch.tensor(3.0)), dim=0)"
   ]
  },
  {
   "cell_type": "code",
   "execution_count": 120,
   "metadata": {},
   "outputs": [
    {
     "name": "stdout",
     "output_type": "stream",
     "text": [
      "tensor([0.6075, 0.6090, 0.3037])\n"
     ]
    }
   ],
   "source": [
    "# computing the attention by a weighted sum of the value vectors\n",
    "attention = torch.matmul(weights, torch.stack([V_1, V_2, V_3, V_4]))\n",
    "print(attention)"
   ]
  },
  {
   "cell_type": "code",
   "execution_count": 121,
   "metadata": {},
   "outputs": [
    {
     "name": "stdout",
     "output_type": "stream",
     "text": [
      "tensor([[0.6075, 0.6090, 0.3037],\n",
      "        [0.6144, 0.6002, 0.3056],\n",
      "        [0.7058, 0.6380, 0.3293],\n",
      "        [0.6064, 0.6041, 0.3020]])\n"
     ]
    }
   ],
   "source": [
    "# in one step\n",
    "word_1 = torch.tensor([1.0, 0.0, 0.0])\n",
    "word_2 = torch.tensor([0.0, 1.0, 0.0])\n",
    "word_3 = torch.tensor([1.0, 1.0, 0.0])\n",
    "word_4 = torch.tensor([0.0, 0.0, 1.0])\n",
    "words = torch.stack([word_1, word_2, word_3, word_4])\n",
    "\n",
    "torch.manual_seed(42)\n",
    "W_Q = torch.rand(3, 3)\n",
    "W_K = torch.rand(3, 3)\n",
    "W_V = torch.rand(3, 3)\n",
    "\n",
    "Q = torch.matmul(W_Q, words.T)\n",
    "K = torch.matmul(W_K, words.T)\n",
    "V = torch.matmul(W_V, words.T)\n",
    "\n",
    "scores = torch.matmul(Q.T, K) / torch.sqrt(torch.tensor(3.0))\n",
    "weights = torch.nn.functional.softmax(scores, dim=1)\n",
    "attention = torch.matmul(weights, V.T)\n",
    "print(attention)\n"
   ]
  }
 ],
 "metadata": {
  "kernelspec": {
   "display_name": "d2l",
   "language": "python",
   "name": "python3"
  },
  "language_info": {
   "codemirror_mode": {
    "name": "ipython",
    "version": 3
   },
   "file_extension": ".py",
   "mimetype": "text/x-python",
   "name": "python",
   "nbconvert_exporter": "python",
   "pygments_lexer": "ipython3",
   "version": "3.9.19"
  }
 },
 "nbformat": 4,
 "nbformat_minor": 2
}
